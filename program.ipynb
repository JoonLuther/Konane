{
 "cells": [
  {
   "cell_type": "code",
   "execution_count": 108,
   "metadata": {},
   "outputs": [],
   "source": [
    "import numpy as np"
   ]
  },
  {
   "cell_type": "code",
   "execution_count": 109,
   "metadata": {},
   "outputs": [
    {
     "name": "stdout",
     "output_type": "stream",
     "text": [
      "(8, 8)\n"
     ]
    }
   ],
   "source": [
    "board = np.asarray([[\"-\"]*8]*8)\n",
    "print(board.shape)"
   ]
  },
  {
   "cell_type": "code",
   "execution_count": 110,
   "metadata": {},
   "outputs": [],
   "source": [
    "def initialize_board():\n",
    "    for i in range(len(board)):\n",
    "        for j in range(len(board[0])):\n",
    "            if((i+j)%2 == 0):\n",
    "                board[i][j] = \"x\"\n",
    "            else:\n",
    "                board[i][j] = \"o\""
   ]
  },
  {
   "cell_type": "code",
   "execution_count": 111,
   "metadata": {},
   "outputs": [
    {
     "name": "stdout",
     "output_type": "stream",
     "text": [
      "[['x' 'o' 'x' 'o' 'x' 'o' 'x' 'o']\n",
      " ['o' 'x' 'o' 'x' 'o' 'x' 'o' 'x']\n",
      " ['x' 'o' 'x' 'o' 'x' 'o' 'x' 'o']\n",
      " ['o' 'x' 'o' 'x' 'o' 'x' 'o' 'x']\n",
      " ['x' 'o' 'x' 'o' 'x' 'o' 'x' 'o']\n",
      " ['o' 'x' 'o' 'x' 'o' 'x' 'o' 'x']\n",
      " ['x' 'o' 'x' 'o' 'x' 'o' 'x' 'o']\n",
      " ['o' 'x' 'o' 'x' 'o' 'x' 'o' 'x']]\n"
     ]
    }
   ],
   "source": [
    "initialize_board()\n",
    "print(board)"
   ]
  },
  {
   "cell_type": "code",
   "execution_count": 112,
   "metadata": {},
   "outputs": [],
   "source": [
    "def remove_piece(col,row):\n",
    "    if(0 <= row-1 and row-1 < len(board) and 0 <= col-1 and col-1 < len(board[0])):\n",
    "        board[row-1][col-1] = '.'\n",
    "    else:\n",
    "        print(\"invalid remove\\n\")"
   ]
  },
  {
   "cell_type": "code",
   "execution_count": 113,
   "metadata": {},
   "outputs": [],
   "source": [
    "# heuristic moves_available to choose best move\n",
    "def moves_available(team):\n",
    "   num_moves = 0\n",
    "   a = np.where(board == team)\n",
    "   for i,j in zip(a[0],a[1]):\n",
    "      # up\n",
    "      if(i-2 >= 0 and board[i-2][j] == '.' and board[i-1][j] != team and board[i-1][j] != '.'):\n",
    "         num_moves+=1\n",
    "      # down \n",
    "      if(i+2 < len(board) and board[i+2][j] == '.' and board[i+1][j] != team and board[i+1][j] != '.'):\n",
    "         num_moves+=1\n",
    "      # left\n",
    "      if(j-2 >= 0 and board[i][j-2] == '.' and board[i][j-1] != team and board[i][j-1] != '.'):\n",
    "         num_moves+=1\n",
    "      # right\n",
    "      if(j+2 < len(board[0]) and board[i][j+2] == '.' and board[i][j+1] != team and board[i+1][j] != '.'):\n",
    "         num_moves+=1\n",
    "   return num_moves\n",
    "      "
   ]
  },
  {
   "cell_type": "code",
   "execution_count": 114,
   "metadata": {},
   "outputs": [
    {
     "name": "stdout",
     "output_type": "stream",
     "text": [
      "invalid remove\n",
      "\n"
     ]
    }
   ],
   "source": [
    "remove_piece(1,1)\n",
    "remove_piece(4,4)\n",
    "remove_piece(4,5)\n",
    "remove_piece(9,9)"
   ]
  },
  {
   "cell_type": "code",
   "execution_count": 115,
   "metadata": {},
   "outputs": [
    {
     "name": "stdout",
     "output_type": "stream",
     "text": [
      "[['.' 'o' 'x' 'o' 'x' 'o' 'x' 'o']\n",
      " ['o' 'x' 'o' 'x' 'o' 'x' 'o' 'x']\n",
      " ['x' 'o' 'x' 'o' 'x' 'o' 'x' 'o']\n",
      " ['o' 'x' 'o' '.' 'o' 'x' 'o' 'x']\n",
      " ['x' 'o' 'x' '.' 'x' 'o' 'x' 'o']\n",
      " ['o' 'x' 'o' 'x' 'o' 'x' 'o' 'x']\n",
      " ['x' 'o' 'x' 'o' 'x' 'o' 'x' 'o']\n",
      " ['o' 'x' 'o' 'x' 'o' 'x' 'o' 'x']]\n",
      "5\n",
      "3\n"
     ]
    }
   ],
   "source": [
    "print(board)\n",
    "print(moves_available('x'))\n",
    "print(moves_available('o'))"
   ]
  },
  {
   "cell_type": "code",
   "execution_count": null,
   "metadata": {},
   "outputs": [],
   "source": []
  }
 ],
 "metadata": {
  "kernelspec": {
   "display_name": "Python 3",
   "language": "python",
   "name": "python3"
  },
  "language_info": {
   "codemirror_mode": {
    "name": "ipython",
    "version": 3
   },
   "file_extension": ".py",
   "mimetype": "text/x-python",
   "name": "python",
   "nbconvert_exporter": "python",
   "pygments_lexer": "ipython3",
   "version": "3.10.7"
  },
  "orig_nbformat": 4
 },
 "nbformat": 4,
 "nbformat_minor": 2
}
