{
 "cells": [
  {
   "cell_type": "code",
   "execution_count": 128,
   "metadata": {},
   "outputs": [],
   "source": [
    "import numpy as np"
   ]
  },
  {
   "cell_type": "code",
   "execution_count": 129,
   "metadata": {},
   "outputs": [
    {
     "name": "stdout",
     "output_type": "stream",
     "text": [
      "(8, 8)\n"
     ]
    }
   ],
   "source": [
    "board = np.asarray([[\"-\"]*8]*8)\n",
    "print(board.shape)"
   ]
  },
  {
   "cell_type": "code",
   "execution_count": 130,
   "metadata": {},
   "outputs": [],
   "source": [
    "state_tree = []\n",
    "state_tree_dict = []"
   ]
  },
  {
   "cell_type": "code",
   "execution_count": 131,
   "metadata": {},
   "outputs": [],
   "source": [
    "def initialize_board():\n",
    "    for i in range(len(board)):\n",
    "        for j in range(len(board[0])):\n",
    "            if((i+j)%2 == 0):\n",
    "                board[i][j] = \"X\"\n",
    "            else:\n",
    "                board[i][j] = \"O\""
   ]
  },
  {
   "cell_type": "code",
   "execution_count": 132,
   "metadata": {},
   "outputs": [],
   "source": [
    "initialize_board()"
   ]
  },
  {
   "cell_type": "code",
   "execution_count": 133,
   "metadata": {},
   "outputs": [],
   "source": [
    "def remove_piece(board_state, row,col):\n",
    "    if(0 <= row and row < len(board_state) and 0 <= col and col < len(board_state[0])):\n",
    "        board_state[row][col] = '.'\n",
    "        return board_state\n",
    "    else:\n",
    "        print(\"invalid remove\\n\")\n",
    "        return None"
   ]
  },
  {
   "cell_type": "code",
   "execution_count": 134,
   "metadata": {},
   "outputs": [],
   "source": [
    "def move_piece(board_state, team, srow, scol, erow, ecol):\n",
    "    if(0 <= srow and srow < len(board_state) and 0 <= scol and scol < len(board_state[0]) and 0 <= erow and erow < len(board_state) and 0 <= ecol and ecol < len(board_state[0])):\n",
    "        board_state[srow][scol] = '.'\n",
    "        # vertical move\n",
    "        if(scol == ecol):\n",
    "            if(srow < erow):\n",
    "                for i in range(srow, erow+1, 2):\n",
    "                    board_state[i+1][scol] = '.'\n",
    "            else:\n",
    "                for i in range(srow, erow-1, -2):\n",
    "                    board_state[i-1][scol] = '.'\n",
    "        # horizontal move\n",
    "        elif(srow == erow):\n",
    "            if(scol < ecol):\n",
    "                for j in range(scol, ecol+1, 2):\n",
    "                    board_state[srow][j+1] = '.'\n",
    "            else:\n",
    "                for j in range(scol, ecol-1, -2):\n",
    "                    board_state[srow][j-1] = '.'\n",
    "        else:\n",
    "            print(\"non orthogonal move\")\n",
    "            return None\n",
    "    else:\n",
    "        print(\"move out of range\")\n",
    "        return None\n",
    "    \n",
    "    board_state[erow][ecol] = team\n",
    "    return(board_state)"
   ]
  },
  {
   "cell_type": "code",
   "execution_count": 135,
   "metadata": {},
   "outputs": [],
   "source": [
    "# heuristic moves_available to choose best move, returns a list of possible board states\n",
    "def moves_available(team, board_state):\n",
    "   num_moves = 0\n",
    "   board_states = []\n",
    "   a = np.where(board_state == team)\n",
    "   for i,j in zip(a[0],a[1]):\n",
    "      # up\n",
    "      k = i\n",
    "      while k-2 >= 0:\n",
    "         bs_cpy = board_state.copy()\n",
    "         if(board_state[k-2][j] == '.' and board_state[k-1][j] != team and board_state[k-1][j] != '.'):\n",
    "            num_moves+=1\n",
    "            board_states.append(move_piece(bs_cpy, team, i,j,k-2,j))\n",
    "            k-=2\n",
    "         else:\n",
    "            break\n",
    "      # down\n",
    "      k = i\n",
    "      while k+2 < len(board_state):\n",
    "         bs_cpy = board_state.copy()\n",
    "         if(board_state[k+2][j] == '.' and board_state[k+1][j] != team and board_state[k+1][j] != '.'):\n",
    "            num_moves+=1\n",
    "            board_states.append(move_piece(bs_cpy, team, i,j,k+2,j))\n",
    "            k+=2\n",
    "         else:\n",
    "            break\n",
    "      # left\n",
    "      k = j\n",
    "      while k-2 >= 0:\n",
    "         bs_cpy = board_state.copy()\n",
    "         if(board_state[i][k-2] == '.' and board_state[i][k-1] != team and board_state[i][k-1] != '.'):\n",
    "            num_moves+=1\n",
    "            board_states.append(move_piece(bs_cpy, team, i,j,i,k-2))\n",
    "            k-=2\n",
    "         else:\n",
    "            break\n",
    "      # right\n",
    "      k = j\n",
    "      while k+2 < len(board_state[0]):\n",
    "         bs_cpy = board_state.copy()\n",
    "         if(board_state[i][k+2] == '.' and board_state[i][k+1] != team and board_state[i][k+1] != '.'):\n",
    "            num_moves+=1\n",
    "            board_states.append(move_piece(bs_cpy, team, i,j,i,k+2))\n",
    "            k+=2\n",
    "         else:\n",
    "            break\n",
    "   return board_states\n",
    "      "
   ]
  },
  {
   "cell_type": "code",
   "execution_count": 136,
   "metadata": {},
   "outputs": [],
   "source": [
    "def print_board(board_state):\n",
    "    for i in range(len(board_state)):\n",
    "        str = \"\"\n",
    "        for j in range(len(board_state[0])):\n",
    "            str = str + board_state[i][j] + \" \"\n",
    "        print(str)"
   ]
  },
  {
   "cell_type": "code",
   "execution_count": 137,
   "metadata": {},
   "outputs": [
    {
     "name": "stdout",
     "output_type": "stream",
     "text": [
      "X O X O X O X O \n",
      "O X O X O X O X \n",
      "X O X O X O X O \n",
      "O X O X O X O X \n",
      "X O X O X O X O \n",
      "O X O X O X O X \n",
      "X O X O X O X O \n",
      "O X O X O X O X \n"
     ]
    }
   ],
   "source": [
    "print_board(board)"
   ]
  },
  {
   "cell_type": "code",
   "execution_count": 138,
   "metadata": {},
   "outputs": [],
   "source": [
    "board = remove_piece(board,4,4)"
   ]
  },
  {
   "cell_type": "code",
   "execution_count": 139,
   "metadata": {},
   "outputs": [
    {
     "name": "stdout",
     "output_type": "stream",
     "text": [
      "X O X O X O X O \n",
      "O X O X O X O X \n",
      "X O X O X O X O \n",
      "O X O X O X O X \n",
      "X O X O . O X O \n",
      "O X O X O X O X \n",
      "X O X O X O X O \n",
      "O X O X O X O X \n",
      "\n",
      "4\n",
      "3\n",
      "3\n",
      "2\n",
      "2\n"
     ]
    }
   ],
   "source": [
    "print_board(board)\n",
    "print(\"\")\n",
    "print(len(moves_available('X', board)))\n",
    "\n",
    "for brd in moves_available('X', board):\n",
    "    print(len(moves_available('X', brd)))\n"
   ]
  },
  {
   "cell_type": "code",
   "execution_count": null,
   "metadata": {},
   "outputs": [],
   "source": []
  }
 ],
 "metadata": {
  "kernelspec": {
   "display_name": "Python 3",
   "language": "python",
   "name": "python3"
  },
  "language_info": {
   "codemirror_mode": {
    "name": "ipython",
    "version": 3
   },
   "file_extension": ".py",
   "mimetype": "text/x-python",
   "name": "python",
   "nbconvert_exporter": "python",
   "pygments_lexer": "ipython3",
   "version": "3.10.7"
  },
  "orig_nbformat": 4
 },
 "nbformat": 4,
 "nbformat_minor": 2
}
